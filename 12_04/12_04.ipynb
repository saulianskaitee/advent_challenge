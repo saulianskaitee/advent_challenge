{
 "cells": [
  {
   "cell_type": "code",
   "execution_count": 194,
   "metadata": {},
   "outputs": [],
   "source": [
    "all_words = []\n",
    "forward_strings = []\n",
    "back_strings = []\n",
    "column_down = []\n",
    "column_up = []\n",
    "diagonal = []\n",
    "\n",
    "# <-- and --> reading\n",
    "with open(\"xmas_small.txt\", \"r\") as file:\n",
    "    column_strings = []\n",
    "    for i, line in enumerate(file):\n",
    "        forward_strings.append(line[:-1]) # -->\n",
    "        all_words.append(line[:-1])\n",
    "        back_strings.append(line[-2::-1]) # <--\n",
    "        all_words.append(line[-2::-1])\n",
    "\n",
    "# up the column/ down the column\n",
    "for i in range(len(forward_strings)):\n",
    "    string = \"\"\n",
    "    for j in range(len(forward_strings[0])):\n",
    "        string += forward_strings[j][i]\n",
    "    column_down.append(string) # down the column\n",
    "    all_words.append(string)\n",
    "    column_up.append(string[-1::-1]) # up the column\n",
    "    all_words.append(string[-1::-1])\n",
    "\n",
    "for i in range(len(forward_strings[0])):\n",
    "    string = forward_strings[0][i]\n",
    "    for j in range(1, len(forward_strings[0])-i):\n",
    "        string += forward_strings[j][i+j]\n",
    "    #print(string)\n",
    "    if len(string) >= 4:\n",
    "        diagonal.append(string)\n",
    "        all_words.append(string)\n",
    "        diagonal.append(string[-1::-1])\n",
    "        all_words.append(string[-1::-1])\n",
    "\n",
    "for i in range(len(back_strings[0])):\n",
    "    string = back_strings[0][i]\n",
    "    for j in range(1, len(back_strings[0])-i):\n",
    "        string += back_strings[j][i+j]\n",
    "    #print(string)\n",
    "    if len(string) >= 4:\n",
    "        diagonal.append(string)\n",
    "        all_words.append(string)\n",
    "        diagonal.append(string[-1::-1])\n",
    "        all_words.append(string[-1::-1])\n",
    "\n",
    "for i in range(len(column_down[0])):\n",
    "    string = column_down[0][i]\n",
    "    for j in range(1, len(column_down[0])-i):\n",
    "        string += column_down[j][i+j]\n",
    "    #print(string)\n",
    "    if len(string) >= 4:\n",
    "        diagonal.append(string)\n",
    "        all_words.append(string)\n",
    "        diagonal.append(string[-1::-1])\n",
    "        all_words.append(string[-1::-1])\n",
    "\n",
    "for i in range(len(back_strings[0])):\n",
    "    string = back_strings[i][0]\n",
    "    for j in range(1, len(back_strings[0])-i):\n",
    "        string += back_strings[i+j][j]\n",
    "    #print(string)\n",
    "    if len(string) >= 4:\n",
    "        diagonal.append(string)\n",
    "        all_words.append(string)\n",
    "        diagonal.append(string[-1::-1])\n",
    "        all_words.append(string[-1::-1])\n",
    "\n",
    "all_words = set(all_words)"
   ]
  },
  {
   "cell_type": "code",
   "execution_count": 195,
   "metadata": {},
   "outputs": [
    {
     "name": "stdout",
     "output_type": "stream",
     "text": [
      "16\n"
     ]
    }
   ],
   "source": [
    "import re\n",
    "all = 0\n",
    "\n",
    "for line in all_words:\n",
    "    xmas = re.findall(r\"XMAS\", line)\n",
    "    all += len(xmas)\n",
    "\n",
    "print(all)\n"
   ]
  },
  {
   "cell_type": "code",
   "execution_count": 183,
   "metadata": {},
   "outputs": [
    {
     "name": "stdout",
     "output_type": "stream",
     "text": [
      "['M', 'M', 'M', 'S', 'X', 'X', 'M', 'A', 'S', 'M']\n",
      "['M', 'S', 'A', 'M', 'X', 'M', 'S', 'M', 'S', 'A']\n",
      "['A', 'M', 'X', 'S', 'X', 'M', 'A', 'A', 'M', 'M']\n",
      "['M', 'S', 'A', 'M', 'A', 'S', 'M', 'S', 'M', 'X']\n",
      "['X', 'M', 'A', 'S', 'A', 'M', 'X', 'A', 'M', 'M']\n",
      "['X', 'X', 'A', 'M', 'M', 'X', 'X', 'A', 'M', 'A']\n",
      "['S', 'M', 'S', 'M', 'S', 'A', 'S', 'X', 'S', 'S']\n",
      "['S', 'A', 'X', 'A', 'M', 'A', 'S', 'A', 'A', 'A']\n",
      "['M', 'A', 'M', 'M', 'M', 'X', 'M', 'M', 'M', 'M']\n",
      "['M', 'X', 'M', 'X', 'A', 'X', 'M', 'A', 'S', 'X']\n"
     ]
    }
   ],
   "source": [
    "matrix  = []\n",
    "with open(\"xmas_small.txt\", \"r\") as file:\n",
    "    for line in file:\n",
    "        line_List = []\n",
    "        for char in line[:-1]:\n",
    "            line_List.append(char)\n",
    "        matrix.append(line_List)\n",
    "\n",
    "for line in matrix:\n",
    "    print(line)"
   ]
  }
 ],
 "metadata": {
  "kernelspec": {
   "display_name": "base",
   "language": "python",
   "name": "python3"
  },
  "language_info": {
   "codemirror_mode": {
    "name": "ipython",
    "version": 3
   },
   "file_extension": ".py",
   "mimetype": "text/x-python",
   "name": "python",
   "nbconvert_exporter": "python",
   "pygments_lexer": "ipython3",
   "version": "3.12.7"
  }
 },
 "nbformat": 4,
 "nbformat_minor": 2
}
