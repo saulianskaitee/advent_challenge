{
 "cells": [
  {
   "cell_type": "markdown",
   "metadata": {},
   "source": [
    "### The reports"
   ]
  },
  {
   "cell_type": "code",
   "execution_count": 36,
   "metadata": {},
   "outputs": [
    {
     "name": "stdout",
     "output_type": "stream",
     "text": [
      "In total 371 safe reports were found!\n"
     ]
    }
   ],
   "source": [
    "# file reading into two lists of numbers\n",
    "safe_reports = 0\n",
    "\n",
    "try:\n",
    "    with open(\"reports.txt\", \"r\") as file:    \n",
    "\n",
    "        for line in file:\n",
    "            numbers = [int(num) for num in line.split()]\n",
    "\n",
    "            is_safe = True\n",
    "            increasing = numbers[0] < numbers[1]\n",
    "\n",
    "            for i in range(len(numbers)-1):\n",
    "                diff = abs(numbers[i] - numbers[i + 1])\n",
    "\n",
    "                if diff not in {1, 2, 3}:\n",
    "                    is_safe = False\n",
    "                    break\n",
    "\n",
    "                if increasing and numbers[i] > numbers[i+1]:\n",
    "                    is_safe = False\n",
    "                    break\n",
    "\n",
    "                if not increasing and numbers[i] < numbers[i+1]:\n",
    "                    is_safe = False\n",
    "                    break\n",
    "\n",
    "            if is_safe:\n",
    "                safe_reports += 1\n",
    "                if increasing:\n",
    "                    pass\n",
    "                    #print(f\"Increasing: {numbers}\")\n",
    "                else:\n",
    "                    pass\n",
    "                    #print(f\"Decreasing: {numbers}\")\n",
    "        \n",
    "except OSError as e:\n",
    "    print(f\"Error reading file: {e}\")\n",
    "    exit()  # Exit the program if the file can't be read\n",
    "\n",
    "print(f\"In total {safe_reports} safe reports were found!\")"
   ]
  },
  {
   "cell_type": "markdown",
   "metadata": {},
   "source": [
    "###  Tolerating reports"
   ]
  },
  {
   "cell_type": "code",
   "execution_count": 35,
   "metadata": {},
   "outputs": [
    {
     "name": "stdout",
     "output_type": "stream",
     "text": [
      "In total 426 safe reports were found!\n"
     ]
    }
   ],
   "source": [
    "# file reading into two lists of numbers\n",
    "safe_reports = 0\n",
    "\n",
    "try:\n",
    "    with open(\"reports.txt\", \"r\") as file:    \n",
    "\n",
    "        for line in file:\n",
    "            numbers = [int(num) for num in line.split()]\n",
    "\n",
    "            is_safe = True\n",
    "            increasing = numbers[0] < numbers[1]\n",
    "            tolerance = 2\n",
    "\n",
    "            for i in range(len(numbers)-1):\n",
    "                diff = abs(numbers[i] - numbers[i + 1])\n",
    "\n",
    "                if diff not in {1, 2, 3}:\n",
    "                    tolerance -= 1\n",
    "                    if not tolerance:\n",
    "                        is_safe = False\n",
    "                        break\n",
    "\n",
    "                if increasing and numbers[i] > numbers[i+1]:\n",
    "                    tolerance -= 1\n",
    "                    if not tolerance:\n",
    "                        is_safe = False\n",
    "                        break\n",
    "\n",
    "                if not increasing and numbers[i] < numbers[i+1]:\n",
    "                    tolerance -= 1\n",
    "                    if not tolerance:\n",
    "                        is_safe = False\n",
    "                        break\n",
    "\n",
    "            if is_safe:\n",
    "                safe_reports += 1\n",
    "                if increasing:\n",
    "                    pass\n",
    "                    #print(f\"Increasing: {numbers}\")\n",
    "                else:\n",
    "                    pass\n",
    "                    #print(f\"Decreasing: {numbers}\")\n",
    "        \n",
    "except OSError as e:\n",
    "    print(f\"Error reading file: {e}\")\n",
    "    exit()  # Exit the program if the file can't be read\n",
    "\n",
    "print(f\"In total {safe_reports} safe reports were found!\")"
   ]
  }
 ],
 "metadata": {
  "kernelspec": {
   "display_name": "base",
   "language": "python",
   "name": "python3"
  },
  "language_info": {
   "codemirror_mode": {
    "name": "ipython",
    "version": 3
   },
   "file_extension": ".py",
   "mimetype": "text/x-python",
   "name": "python",
   "nbconvert_exporter": "python",
   "pygments_lexer": "ipython3",
   "version": "3.12.7"
  }
 },
 "nbformat": 4,
 "nbformat_minor": 2
}
