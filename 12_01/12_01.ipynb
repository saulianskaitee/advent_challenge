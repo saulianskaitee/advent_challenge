{
 "cells": [
  {
   "cell_type": "markdown",
   "metadata": {},
   "source": [
    "### The sum of differences"
   ]
  },
  {
   "cell_type": "code",
   "execution_count": 2,
   "metadata": {},
   "outputs": [
    {
     "name": "stdout",
     "output_type": "stream",
     "text": [
      "The sum of dofferences is 765748\n"
     ]
    }
   ],
   "source": [
    "#!/usr/bin/env python3\n",
    "\n",
    "list1, list2, = [], []\n",
    "\n",
    "# file reading into two lists of numbers\n",
    "try:\n",
    "    file = open(\"IDs_lists.txt\", \"r\")\n",
    "    for line in file:\n",
    "        list1.append(int(line.split()[0]))\n",
    "        list2.append(int(line.split()[1]))\n",
    "    file.close()\n",
    "except OSError as e:\n",
    "    print(f\"Error reading file: {e}\")\n",
    "    exit()  # Exit the program if the file can't be read\n",
    "\n",
    "# check if lists have the same number of IDs and sort the lists if so\n",
    "if len(list1) == len(list2):\n",
    "    #print(f\"Both list have eaqual number of IDs, which is {len(list2)}\")\n",
    "    list1.sort()\n",
    "    list2.sort()\n",
    "\n",
    "    # calculate the difference between numbers\n",
    "    sum_of_differences = sum(abs(list1[i]-list2[i]) for i in range(len(list2)))\n",
    "    print(f\"The sum of dofferences is {sum_of_differences}\")\n",
    "\n",
    "else:\n",
    "    print(f\"The number of IDs in the list does not match. 1st list has {len(list1)} IDs while the 2nd list has {len(list2)} IDs\")"
   ]
  },
  {
   "cell_type": "markdown",
   "metadata": {},
   "source": [
    "### The similarity score"
   ]
  },
  {
   "cell_type": "code",
   "execution_count": 13,
   "metadata": {},
   "outputs": [
    {
     "name": "stdout",
     "output_type": "stream",
     "text": [
      "The similarity score is: 27732508\n"
     ]
    }
   ],
   "source": [
    "# make a dict from the first list with initial counts as 0\n",
    "IDs_Dict = {}\n",
    "for ID in list1:\n",
    "    IDs_Dict[ID] = 0\n",
    "#print(IDs_Dict)\n",
    "\n",
    "# iterate throught the second list and count occurrences of each ID\n",
    "for ID in list2:\n",
    "    if ID in IDs_Dict.keys():\n",
    "        IDs_Dict[ID] += 1\n",
    "#print(IDs_Dict)\n",
    "\n",
    "print(f\"The similarity score is: {sum(ID * IDs_Dict[ID] for ID in list1)}\")"
   ]
  }
 ],
 "metadata": {
  "kernelspec": {
   "display_name": "base",
   "language": "python",
   "name": "python3"
  },
  "language_info": {
   "codemirror_mode": {
    "name": "ipython",
    "version": 3
   },
   "file_extension": ".py",
   "mimetype": "text/x-python",
   "name": "python",
   "nbconvert_exporter": "python",
   "pygments_lexer": "ipython3",
   "version": "3.12.7"
  }
 },
 "nbformat": 4,
 "nbformat_minor": 2
}
