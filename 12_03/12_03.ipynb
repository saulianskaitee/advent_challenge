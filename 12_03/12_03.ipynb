{
 "cells": [
  {
   "cell_type": "markdown",
   "metadata": {},
   "source": [
    "### Corrupted memory"
   ]
  },
  {
   "cell_type": "code",
   "execution_count": null,
   "metadata": {},
   "outputs": [
    {
     "name": "stdout",
     "output_type": "stream",
     "text": [
      "Multiplication results = 168539636\n"
     ]
    }
   ],
   "source": [
    "import re\n",
    "multi = 0\n",
    "\n",
    "try:\n",
    "    with open(\"corrupted_memory.txt\", \"r\") as file:\n",
    "        for line in file:\n",
    "            mulList = re.findall(r\"mul\\((\\d+),(\\d+)\\)\", line)\n",
    "            for set in mulList:\n",
    "                multi += int(set[0]) * int(set[1])\n",
    "\n",
    "        print(f\"Multiplication results = {multi}\")\n",
    "except OSError as e:\n",
    "    print(f\"Error reading file: {e}\")\n",
    "    exit()"
   ]
  },
  {
   "cell_type": "markdown",
   "metadata": {},
   "source": [
    "### Adding do() and dont()"
   ]
  },
  {
   "cell_type": "code",
   "execution_count": null,
   "metadata": {},
   "outputs": [
    {
     "name": "stdout",
     "output_type": "stream",
     "text": [
      "Multiplication results = 102631226\n"
     ]
    }
   ],
   "source": [
    "lines_to_read = []\n",
    "\n",
    "with open(\"corrupted_memory.txt\", \"r\") as file:\n",
    "\n",
    "    # initialy reading is enabled\n",
    "    start, stop = True, False\n",
    "\n",
    "    for line in file:\n",
    "        for i in range(len(line)):\n",
    "\n",
    "            # beggining of the line/do() was found and don't() was found\n",
    "            if start and stop:\n",
    "                if start == True:\n",
    "                    start = 0\n",
    "                lines_to_read.append(line[start:stop])\n",
    "                start, stop = False, False\n",
    "\n",
    "            # beggining of the line/do() was found and end of the line reached\n",
    "            elif start and i == len(line)-1:\n",
    "                stop = i\n",
    "                lines_to_read.append(line[start:stop])\n",
    "\n",
    "                # reading is alowded form the beginning of the line if it did not end with don't()\n",
    "                start, stop = True, False\n",
    "\n",
    "            # only acknowlandge don't() if it comes after when reading allowded\n",
    "            elif start and line[i:i+len(\"don't()\")] == \"don't()\":\n",
    "                stop = i+len(\"don't()\")\n",
    "\n",
    "            # only enabled when start initially is set to False\n",
    "            elif line[i:i+len(\"do()\")] == \"do()\" and not start:\n",
    "                start = i\n",
    "\n",
    "multi = 0\n",
    "for line in lines_to_read:\n",
    "    #print(line)\n",
    "    mulList = re.findall(r\"mul\\((\\d+),(\\d+)\\)\", line)\n",
    "    for set in mulList:\n",
    "        multi += int(set[0]) * int(set[1])\n",
    "\n",
    "print(f\"Multiplication results = {multi}\")"
   ]
  }
 ],
 "metadata": {
  "kernelspec": {
   "display_name": "base",
   "language": "python",
   "name": "python3"
  },
  "language_info": {
   "codemirror_mode": {
    "name": "ipython",
    "version": 3
   },
   "file_extension": ".py",
   "mimetype": "text/x-python",
   "name": "python",
   "nbconvert_exporter": "python",
   "pygments_lexer": "ipython3",
   "version": "3.12.7"
  }
 },
 "nbformat": 4,
 "nbformat_minor": 2
}
